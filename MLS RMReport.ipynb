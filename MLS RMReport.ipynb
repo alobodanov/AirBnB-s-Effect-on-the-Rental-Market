{
 "cells": [
  {
   "cell_type": "code",
   "execution_count": 1,
   "metadata": {},
   "outputs": [],
   "source": [
    "%matplotlib inline"
   ]
  },
  {
   "cell_type": "code",
   "execution_count": 2,
   "metadata": {},
   "outputs": [],
   "source": [
    "import pandas as pd\n",
    "import matplotlib.pyplot as plt\n",
    "import numpy as np"
   ]
  },
  {
   "cell_type": "code",
   "execution_count": 3,
   "metadata": {
    "scrolled": false
   },
   "outputs": [
    {
     "data": {
      "text/html": [
       "<div>\n",
       "<style scoped>\n",
       "    .dataframe tbody tr th:only-of-type {\n",
       "        vertical-align: middle;\n",
       "    }\n",
       "\n",
       "    .dataframe tbody tr th {\n",
       "        vertical-align: top;\n",
       "    }\n",
       "\n",
       "    .dataframe thead th {\n",
       "        text-align: right;\n",
       "    }\n",
       "</style>\n",
       "<table border=\"1\" class=\"dataframe\">\n",
       "  <thead>\n",
       "    <tr style=\"text-align: right;\">\n",
       "      <th></th>\n",
       "      <th>Year</th>\n",
       "      <th>District</th>\n",
       "      <th>Listed</th>\n",
       "      <th>Rented</th>\n",
       "      <th>Bachelor</th>\n",
       "      <th>Bachelor Avg Monthly</th>\n",
       "      <th>1-Bed</th>\n",
       "      <th>1-Bed Avg Monthly</th>\n",
       "      <th>2-Bed</th>\n",
       "      <th>2-Bed Avg Monthly</th>\n",
       "      <th>3-Bed</th>\n",
       "      <th>3-Bed Avg Monthly</th>\n",
       "    </tr>\n",
       "  </thead>\n",
       "  <tbody>\n",
       "    <tr>\n",
       "      <th>0</th>\n",
       "      <td>2006</td>\n",
       "      <td>C01</td>\n",
       "      <td>3938</td>\n",
       "      <td>2153</td>\n",
       "      <td>111</td>\n",
       "      <td>$1,172.00</td>\n",
       "      <td>1421</td>\n",
       "      <td>$1,491.00</td>\n",
       "      <td>605</td>\n",
       "      <td>$2,201.00</td>\n",
       "      <td>16</td>\n",
       "      <td>$4,029.67</td>\n",
       "    </tr>\n",
       "    <tr>\n",
       "      <th>1</th>\n",
       "      <td>2007</td>\n",
       "      <td>C01</td>\n",
       "      <td>4137</td>\n",
       "      <td>2396</td>\n",
       "      <td>120</td>\n",
       "      <td>$1,191.33</td>\n",
       "      <td>1546</td>\n",
       "      <td>$1,527.67</td>\n",
       "      <td>711</td>\n",
       "      <td>$2,246.67</td>\n",
       "      <td>19</td>\n",
       "      <td>$4,512.00</td>\n",
       "    </tr>\n",
       "    <tr>\n",
       "      <th>2</th>\n",
       "      <td>2008</td>\n",
       "      <td>C01</td>\n",
       "      <td>4819</td>\n",
       "      <td>2856</td>\n",
       "      <td>176</td>\n",
       "      <td>$1,217.00</td>\n",
       "      <td>1854</td>\n",
       "      <td>$1,584.00</td>\n",
       "      <td>813</td>\n",
       "      <td>$2,305.67</td>\n",
       "      <td>13</td>\n",
       "      <td>$3,486.67</td>\n",
       "    </tr>\n",
       "    <tr>\n",
       "      <th>3</th>\n",
       "      <td>2009</td>\n",
       "      <td>C01</td>\n",
       "      <td>6293</td>\n",
       "      <td>3622</td>\n",
       "      <td>222</td>\n",
       "      <td>$1,213.33</td>\n",
       "      <td>2239</td>\n",
       "      <td>$1,542.33</td>\n",
       "      <td>1138</td>\n",
       "      <td>$2,210.33</td>\n",
       "      <td>23</td>\n",
       "      <td>$3,416.67</td>\n",
       "    </tr>\n",
       "    <tr>\n",
       "      <th>4</th>\n",
       "      <td>2010</td>\n",
       "      <td>C01</td>\n",
       "      <td>8068</td>\n",
       "      <td>4738</td>\n",
       "      <td>237</td>\n",
       "      <td>$1,226.67</td>\n",
       "      <td>2979</td>\n",
       "      <td>$1,567.00</td>\n",
       "      <td>1485</td>\n",
       "      <td>$2,255.67</td>\n",
       "      <td>37</td>\n",
       "      <td>$3,757.33</td>\n",
       "    </tr>\n",
       "    <tr>\n",
       "      <th>5</th>\n",
       "      <td>2011</td>\n",
       "      <td>C01</td>\n",
       "      <td>10360</td>\n",
       "      <td>6644</td>\n",
       "      <td>363</td>\n",
       "      <td>$1,310.67</td>\n",
       "      <td>4170</td>\n",
       "      <td>$1,695.33</td>\n",
       "      <td>2026</td>\n",
       "      <td>$2,546.33</td>\n",
       "      <td>85</td>\n",
       "      <td>$3,789.33</td>\n",
       "    </tr>\n",
       "    <tr>\n",
       "      <th>6</th>\n",
       "      <td>2012</td>\n",
       "      <td>C01</td>\n",
       "      <td>8370</td>\n",
       "      <td>4964</td>\n",
       "      <td>224</td>\n",
       "      <td>$1,379.50</td>\n",
       "      <td>3060</td>\n",
       "      <td>$1,762.75</td>\n",
       "      <td>1618</td>\n",
       "      <td>$2,607.50</td>\n",
       "      <td>62</td>\n",
       "      <td>$3,780.75</td>\n",
       "    </tr>\n",
       "    <tr>\n",
       "      <th>7</th>\n",
       "      <td>2013</td>\n",
       "      <td>C01</td>\n",
       "      <td>12880</td>\n",
       "      <td>6812</td>\n",
       "      <td>316</td>\n",
       "      <td>$1,375.00</td>\n",
       "      <td>4302</td>\n",
       "      <td>$1,759.75</td>\n",
       "      <td>2117</td>\n",
       "      <td>$2,609.00</td>\n",
       "      <td>77</td>\n",
       "      <td>$4,054.75</td>\n",
       "    </tr>\n",
       "    <tr>\n",
       "      <th>8</th>\n",
       "      <td>2014</td>\n",
       "      <td>C01</td>\n",
       "      <td>15020</td>\n",
       "      <td>8268</td>\n",
       "      <td>367</td>\n",
       "      <td>$1,383.00</td>\n",
       "      <td>5332</td>\n",
       "      <td>$1,760.75</td>\n",
       "      <td>2463</td>\n",
       "      <td>$2,580.50</td>\n",
       "      <td>106</td>\n",
       "      <td>$3,962.75</td>\n",
       "    </tr>\n",
       "    <tr>\n",
       "      <th>9</th>\n",
       "      <td>2015</td>\n",
       "      <td>C01</td>\n",
       "      <td>18086</td>\n",
       "      <td>10199</td>\n",
       "      <td>561</td>\n",
       "      <td>$1,376.25</td>\n",
       "      <td>6482</td>\n",
       "      <td>$1,756.75</td>\n",
       "      <td>2961</td>\n",
       "      <td>$2,622.25</td>\n",
       "      <td>195</td>\n",
       "      <td>$3,464.00</td>\n",
       "    </tr>\n",
       "    <tr>\n",
       "      <th>10</th>\n",
       "      <td>2016</td>\n",
       "      <td>C01</td>\n",
       "      <td>16124</td>\n",
       "      <td>10622</td>\n",
       "      <td>657</td>\n",
       "      <td>$1,477.25</td>\n",
       "      <td>6690</td>\n",
       "      <td>$1,867.75</td>\n",
       "      <td>3076</td>\n",
       "      <td>$2,850.50</td>\n",
       "      <td>199</td>\n",
       "      <td>$3,968.25</td>\n",
       "    </tr>\n",
       "    <tr>\n",
       "      <th>11</th>\n",
       "      <td>2017</td>\n",
       "      <td>C01</td>\n",
       "      <td>14318</td>\n",
       "      <td>9513</td>\n",
       "      <td>573</td>\n",
       "      <td>$1,636.75</td>\n",
       "      <td>5879</td>\n",
       "      <td>$2,071.75</td>\n",
       "      <td>2861</td>\n",
       "      <td>$3,017.50</td>\n",
       "      <td>200</td>\n",
       "      <td>$4,291.25</td>\n",
       "    </tr>\n",
       "    <tr>\n",
       "      <th>12</th>\n",
       "      <td>2018</td>\n",
       "      <td>C01</td>\n",
       "      <td>13725</td>\n",
       "      <td>8894</td>\n",
       "      <td>561</td>\n",
       "      <td>$1,818.50</td>\n",
       "      <td>5629</td>\n",
       "      <td>$2,283.25</td>\n",
       "      <td>2536</td>\n",
       "      <td>$3,276.00</td>\n",
       "      <td>168</td>\n",
       "      <td>$4,417.75</td>\n",
       "    </tr>\n",
       "  </tbody>\n",
       "</table>\n",
       "</div>"
      ],
      "text/plain": [
       "    Year District  Listed  Rented  Bachelor Bachelor Avg Monthly   1-Bed  \\\n",
       "0   2006      C01    3938    2153       111             $1,172.00   1421   \n",
       "1   2007      C01    4137    2396       120             $1,191.33   1546   \n",
       "2   2008      C01    4819    2856       176             $1,217.00   1854   \n",
       "3   2009      C01    6293    3622       222             $1,213.33   2239   \n",
       "4   2010      C01    8068    4738       237             $1,226.67   2979   \n",
       "5   2011      C01   10360    6644       363             $1,310.67   4170   \n",
       "6   2012      C01    8370    4964       224             $1,379.50   3060   \n",
       "7   2013      C01   12880    6812       316             $1,375.00   4302   \n",
       "8   2014      C01   15020    8268       367             $1,383.00   5332   \n",
       "9   2015      C01   18086   10199       561             $1,376.25   6482   \n",
       "10  2016      C01   16124   10622       657             $1,477.25   6690   \n",
       "11  2017      C01   14318    9513       573             $1,636.75   5879   \n",
       "12  2018      C01   13725    8894       561             $1,818.50   5629   \n",
       "\n",
       "    1-Bed Avg Monthly   2-Bed  2-Bed Avg Monthly   3-Bed 3-Bed Avg Monthly   \n",
       "0            $1,491.00    605           $2,201.00     16          $4,029.67  \n",
       "1            $1,527.67    711           $2,246.67     19          $4,512.00  \n",
       "2            $1,584.00    813           $2,305.67     13          $3,486.67  \n",
       "3            $1,542.33   1138           $2,210.33     23          $3,416.67  \n",
       "4            $1,567.00   1485           $2,255.67     37          $3,757.33  \n",
       "5            $1,695.33   2026           $2,546.33     85          $3,789.33  \n",
       "6            $1,762.75   1618           $2,607.50     62          $3,780.75  \n",
       "7            $1,759.75   2117           $2,609.00     77          $4,054.75  \n",
       "8            $1,760.75   2463           $2,580.50    106          $3,962.75  \n",
       "9            $1,756.75   2961           $2,622.25    195          $3,464.00  \n",
       "10           $1,867.75   3076           $2,850.50    199          $3,968.25  \n",
       "11           $2,071.75   2861           $3,017.50    200          $4,291.25  \n",
       "12           $2,283.25   2536           $3,276.00    168          $4,417.75  "
      ]
     },
     "execution_count": 3,
     "metadata": {},
     "output_type": "execute_result"
    }
   ],
   "source": [
    "csv_path = \"MLS Rental Market Report.csv\"\n",
    "Rental_Market_Report_df = pd.read_csv(csv_path)\n",
    "Rental_Market_Report_df\n"
   ]
  },
  {
   "cell_type": "code",
   "execution_count": 29,
   "metadata": {},
   "outputs": [],
   "source": [
    "# # Set x axis and tick locations\n",
    "# x_axis = np.arange(len(Rental_Market_Report_df))\n",
    "# tick_locations = [value+0.4 for value in x_axis]"
   ]
  },
  {
   "cell_type": "code",
   "execution_count": 4,
   "metadata": {},
   "outputs": [
    {
     "data": {
      "image/png": "[encoded data removed]",
      "text/plain": [
       "<Figure size 864x360 with 1 Axes>"
      ]
     },
     "metadata": {
      "needs_background": "light"
     },
     "output_type": "display_data"
    }
   ],
   "source": [
    "# Create a list indicating where to write x labels and set figure size to adjust for space\n",
    "plt.figure(figsize=(12,5))\n",
    "plt.bar(Rental_Market_Report_df[\"Year\"], Rental_Market_Report_df[\"Rented\"], color='r')\n",
    "plt.xticks(Rental_Market_Report_df[\"Year\"])\n",
    "# plt.bar(Rental_Market_Report_df[\"Year\"], Rental_Market_Report_df[\"Listed\"], color='b')\n",
    "plt.show()"
   ]
  },
  {
   "cell_type": "markdown",
   "metadata": {},
   "source": [
    "Comment: "
   ]
  },
  {
   "cell_type": "code",
   "execution_count": 5,
   "metadata": {
    "scrolled": true
   },
   "outputs": [
    {
     "data": {
      "image/png": "[encoded data removed]",
      "text/plain": [
       "<Figure size 864x360 with 1 Axes>"
      ]
     },
     "metadata": {
      "needs_background": "light"
     },
     "output_type": "display_data"
    }
   ],
   "source": [
    "# Create a list indicating where to write x labels and set figure size to adjust for space\n",
    "plt.figure(figsize=(12,5))\n",
    "plt.bar(Rental_Market_Report_df[\"Year\"], Rental_Market_Report_df[\"Bachelor\"], color='b')\n",
    "plt.xticks(Rental_Market_Report_df[\"Year\"])\n",
    "plt.show()\n",
    "\n",
    "# Save Figure\n",
    "plt.savefig(\"bachelor.png\")"
   ]
  },
  {
   "cell_type": "code",
   "execution_count": 9,
   "metadata": {},
   "outputs": [
    {
     "data": {
      "image/png": "[encoded data removed]",
      "text/plain": [
       "<Figure size 864x360 with 1 Axes>"
      ]
     },
     "metadata": {
      "needs_background": "light"
     },
     "output_type": "display_data"
    },
    {
     "data": {
      "text/plain": [
       "<Figure size 432x288 with 0 Axes>"
      ]
     },
     "metadata": {},
     "output_type": "display_data"
    }
   ],
   "source": [
    "# Create a list indicating where to write x labels and set figure size to adjust for space\n",
    "plt.figure(figsize=(12,5))\n",
    "plt.bar(Rental_Market_Report_df[\"Year\"], Rental_Market_Report_df[\"1-Bed\"], color='b')\n",
    "plt.xticks(Rental_Market_Report_df[\"Year\"])\n",
    "plt.show()\n",
    "\n",
    "# Save Figure\n",
    "plt.savefig(\"one-bedroom.png\")"
   ]
  },
  {
   "cell_type": "code",
   "execution_count": 10,
   "metadata": {},
   "outputs": [
    {
     "data": {
      "image/png": "[encoded data removed]",
      "text/plain": [
       "<Figure size 864x360 with 1 Axes>"
      ]
     },
     "metadata": {
      "needs_background": "light"
     },
     "output_type": "display_data"
    },
    {
     "data": {
      "text/plain": [
       "<Figure size 432x288 with 0 Axes>"
      ]
     },
     "metadata": {},
     "output_type": "display_data"
    }
   ],
   "source": [
    "# Create a list indicating where to write x labels and set figure size to adjust for space\n",
    "plt.figure(figsize=(12,5))\n",
    "plt.bar(Rental_Market_Report_df[\"Year\"], Rental_Market_Report_df[\"2-Bed\"], color='b')\n",
    "plt.xticks(Rental_Market_Report_df[\"Year\"])\n",
    "plt.show()\n",
    "\n",
    "# Save Figure\n",
    "plt.savefig(\"two-bedroom.png\")"
   ]
  },
  {
   "cell_type": "code",
   "execution_count": 11,
   "metadata": {},
   "outputs": [
    {
     "data": {
      "image/png": "[encoded data removed]",
      "text/plain": [
       "<Figure size 864x360 with 1 Axes>"
      ]
     },
     "metadata": {
      "needs_background": "light"
     },
     "output_type": "display_data"
    },
    {
     "data": {
      "text/plain": [
       "<Figure size 432x288 with 0 Axes>"
      ]
     },
     "metadata": {},
     "output_type": "display_data"
    }
   ],
   "source": [
    "# Create a list indicating where to write x labels and set figure size to adjust for space\n",
    "plt.figure(figsize=(12,5))\n",
    "plt.bar(Rental_Market_Report_df[\"Year\"], Rental_Market_Report_df[\"3-Bed\"], color='b')\n",
    "plt.xticks(Rental_Market_Report_df[\"Year\"])\n",
    "plt.show()\n",
    "\n",
    "# Save Figure\n",
    "plt.savefig(\"three-bedroom.png\")"
   ]
  },
  {
   "cell_type": "code",
   "execution_count": null,
   "metadata": {},
   "outputs": [],
   "source": []
  }
 ],
 "metadata": {
  "kernelspec": {
   "display_name": "Python 3",
   "language": "python",
   "name": "python3"
  },
  "language_info": {
   "codemirror_mode": {
    "name": "ipython",
    "version": 3
   },
   "file_extension": ".py",
   "mimetype": "text/x-python",
   "name": "python",
   "nbconvert_exporter": "python",
   "pygments_lexer": "ipython3",
   "version": "3.7.0"
  }
 },
 "nbformat": 4,
 "nbformat_minor": 2
}
