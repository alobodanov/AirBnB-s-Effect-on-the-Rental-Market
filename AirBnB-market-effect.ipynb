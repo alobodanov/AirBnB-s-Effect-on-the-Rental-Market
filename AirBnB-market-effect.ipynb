{
 "cells": [
  {
   "cell_type": "markdown",
   "metadata": {},
   "source": [
    "AirBnB's Effect on the Rental Market\n",
    "\n",
    "What happened to MLS listings with the introduction of AirBnB in Toronto?\n",
    "Did it affect the number of MLS listings?"
   ]
  },
  {
   "cell_type": "code",
   "execution_count": 1,
   "metadata": {},
   "outputs": [
    {
     "data": {
      "text/html": [
       "<div>\n",
       "<style scoped>\n",
       "    .dataframe tbody tr th:only-of-type {\n",
       "        vertical-align: middle;\n",
       "    }\n",
       "\n",
       "    .dataframe tbody tr th {\n",
       "        vertical-align: top;\n",
       "    }\n",
       "\n",
       "    .dataframe thead th {\n",
       "        text-align: right;\n",
       "    }\n",
       "</style>\n",
       "<table border=\"1\" class=\"dataframe\">\n",
       "  <thead>\n",
       "    <tr style=\"text-align: right;\">\n",
       "      <th></th>\n",
       "      <th>listing_id</th>\n",
       "      <th>month</th>\n",
       "      <th>day</th>\n",
       "      <th>Year</th>\n",
       "    </tr>\n",
       "  </thead>\n",
       "  <tbody>\n",
       "    <tr>\n",
       "      <th>0</th>\n",
       "      <td>1419</td>\n",
       "      <td>7</td>\n",
       "      <td>19</td>\n",
       "      <td>2015</td>\n",
       "    </tr>\n",
       "    <tr>\n",
       "      <th>1</th>\n",
       "      <td>1419</td>\n",
       "      <td>8</td>\n",
       "      <td>29</td>\n",
       "      <td>2015</td>\n",
       "    </tr>\n",
       "    <tr>\n",
       "      <th>2</th>\n",
       "      <td>1419</td>\n",
       "      <td>9</td>\n",
       "      <td>7</td>\n",
       "      <td>2015</td>\n",
       "    </tr>\n",
       "    <tr>\n",
       "      <th>3</th>\n",
       "      <td>1419</td>\n",
       "      <td>3</td>\n",
       "      <td>28</td>\n",
       "      <td>2016</td>\n",
       "    </tr>\n",
       "    <tr>\n",
       "      <th>4</th>\n",
       "      <td>1419</td>\n",
       "      <td>8</td>\n",
       "      <td>3</td>\n",
       "      <td>2017</td>\n",
       "    </tr>\n",
       "  </tbody>\n",
       "</table>\n",
       "</div>"
      ],
      "text/plain": [
       "   listing_id  month  day  Year\n",
       "0        1419      7   19  2015\n",
       "1        1419      8   29  2015\n",
       "2        1419      9    7  2015\n",
       "3        1419      3   28  2016\n",
       "4        1419      8    3  2017"
      ]
     },
     "execution_count": 1,
     "metadata": {},
     "output_type": "execute_result"
    }
   ],
   "source": [
    "%matplotlib inline\n",
    "# Dependencies and Setup\n",
    "import matplotlib.pyplot as plt\n",
    "import pandas as pd\n",
    "import numpy as np\n",
    "from IPython.display import Image\n",
    "\n",
    "# Read the csv\n",
    "reviews_df = pd.read_csv(\"reviews.csv\")\n",
    "\n",
    "# Display data table for preview\n",
    "reviews_df.head()"
   ]
  },
  {
   "cell_type": "code",
   "execution_count": 2,
   "metadata": {},
   "outputs": [
    {
     "data": {
      "text/plain": [
       "(470371, 4)"
      ]
     },
     "execution_count": 2,
     "metadata": {},
     "output_type": "execute_result"
    }
   ],
   "source": [
    "reviews_df.shape"
   ]
  },
  {
   "cell_type": "markdown",
   "metadata": {},
   "source": [
    "Since there is no yearly data of Airbnb listings, we looked at Airbnb reviews as basis of rented airbnb listings per year. Some listings have more than 1 review per year (multiple rows). We kept only 1 to represent a rented listing in that particular year."
   ]
  },
  {
   "cell_type": "code",
   "execution_count": 3,
   "metadata": {},
   "outputs": [
    {
     "data": {
      "text/plain": [
       "(32722, 4)"
      ]
     },
     "execution_count": 3,
     "metadata": {},
     "output_type": "execute_result"
    }
   ],
   "source": [
    "# Remove duplicates \n",
    "clean_df = reviews_df.drop_duplicates(subset=[\"listing_id\", \"Year\"])\n",
    "clean_df.shape"
   ]
  },
  {
   "cell_type": "code",
   "execution_count": 4,
   "metadata": {},
   "outputs": [
    {
     "data": {
      "text/plain": [
       "Year\n",
       "2009        1\n",
       "2010        9\n",
       "2011       42\n",
       "2012      135\n",
       "2013      357\n",
       "2014      833\n",
       "2015     2249\n",
       "2016     4623\n",
       "2017     7640\n",
       "2018    13234\n",
       "2019     3599\n",
       "Name: listing_id, dtype: int64"
      ]
     },
     "execution_count": 4,
     "metadata": {},
     "output_type": "execute_result"
    }
   ],
   "source": [
    "# Use groupby to count the number of rented listing per year\n",
    "airbnb = clean_df.groupby(\"Year\").count()[\"listing_id\"]\n",
    "airbnb"
   ]
  },
  {
   "cell_type": "code",
   "execution_count": 5,
   "metadata": {},
   "outputs": [
    {
     "data": {
      "text/plain": [
       "Year\n",
       "2009        1\n",
       "2010        9\n",
       "2011       42\n",
       "2012      135\n",
       "2013      357\n",
       "2014      833\n",
       "2015     2249\n",
       "2016     4623\n",
       "2017     7640\n",
       "2018    13234\n",
       "Name: listing_id, dtype: int64"
      ]
     },
     "execution_count": 5,
     "metadata": {},
     "output_type": "execute_result"
    }
   ],
   "source": [
    "# Drop 2019 since this data is incomplete - 2019 is not done yet.\n",
    "airbnb = airbnb.drop(airbnb.index[10])\n",
    "airbnb"
   ]
  },
  {
   "cell_type": "code",
   "execution_count": 6,
   "metadata": {
    "scrolled": true
   },
   "outputs": [
    {
     "data": {
      "image/png": "[encoded data removed]",
      "text/plain": [
       "<Figure size 432x288 with 1 Axes>"
      ]
     },
     "metadata": {
      "needs_background": "light"
     },
     "output_type": "display_data"
    }
   ],
   "source": [
    "# Create bar graph - series method\n",
    "airbnb_chart = airbnb.plot(kind=\"bar\", title = \"Rented Airbnb Listings Per Year\\n\", color=\"red\")\n",
    "\n",
    "airbnb_chart.set_xlabel(\"Year\")\n",
    "airbnb_chart.set_ylabel(\"Number of Rented Airbnb\")\n",
    "\n",
    "# Save Figure\n",
    "plt.savefig(\"Rented_Airbnb_Listings_Per_Year.png\")"
   ]
  },
  {
   "cell_type": "markdown",
   "metadata": {},
   "source": [
    "The above chart shows that there is an increasing patronage of Airbnb in Toronto every year. \n",
    "This will be compared with Toronto MLS data"
   ]
  },
  {
   "cell_type": "code",
   "execution_count": 7,
   "metadata": {},
   "outputs": [
    {
     "data": {
      "text/html": [
       "<div>\n",
       "<style scoped>\n",
       "    .dataframe tbody tr th:only-of-type {\n",
       "        vertical-align: middle;\n",
       "    }\n",
       "\n",
       "    .dataframe tbody tr th {\n",
       "        vertical-align: top;\n",
       "    }\n",
       "\n",
       "    .dataframe thead th {\n",
       "        text-align: right;\n",
       "    }\n",
       "</style>\n",
       "<table border=\"1\" class=\"dataframe\">\n",
       "  <thead>\n",
       "    <tr style=\"text-align: right;\">\n",
       "      <th></th>\n",
       "      <th>MLS_Listed</th>\n",
       "      <th>MLS_Leased</th>\n",
       "    </tr>\n",
       "    <tr>\n",
       "      <th>Year</th>\n",
       "      <th></th>\n",
       "      <th></th>\n",
       "    </tr>\n",
       "  </thead>\n",
       "  <tbody>\n",
       "    <tr>\n",
       "      <th>2012</th>\n",
       "      <td>24,397</td>\n",
       "      <td>13,641</td>\n",
       "    </tr>\n",
       "    <tr>\n",
       "      <th>2013</th>\n",
       "      <td>30,760</td>\n",
       "      <td>16,538</td>\n",
       "    </tr>\n",
       "    <tr>\n",
       "      <th>2014</th>\n",
       "      <td>35,828</td>\n",
       "      <td>19,562</td>\n",
       "    </tr>\n",
       "    <tr>\n",
       "      <th>2015</th>\n",
       "      <td>44,980</td>\n",
       "      <td>24,878</td>\n",
       "    </tr>\n",
       "    <tr>\n",
       "      <th>2016</th>\n",
       "      <td>36,776</td>\n",
       "      <td>24,188</td>\n",
       "    </tr>\n",
       "    <tr>\n",
       "      <th>2017</th>\n",
       "      <td>35,181</td>\n",
       "      <td>23,659</td>\n",
       "    </tr>\n",
       "    <tr>\n",
       "      <th>2018</th>\n",
       "      <td>36,373</td>\n",
       "      <td>23,792</td>\n",
       "    </tr>\n",
       "  </tbody>\n",
       "</table>\n",
       "</div>"
      ],
      "text/plain": [
       "     MLS_Listed MLS_Leased\n",
       "Year                      \n",
       "2012     24,397     13,641\n",
       "2013     30,760     16,538\n",
       "2014     35,828     19,562\n",
       "2015     44,980     24,878\n",
       "2016     36,776     24,188\n",
       "2017     35,181     23,659\n",
       "2018     36,373     23,792"
      ]
     },
     "execution_count": 7,
     "metadata": {},
     "output_type": "execute_result"
    }
   ],
   "source": [
    "# Read the CSV\n",
    "mls_df = pd.read_csv(\"MLS_Summary.csv\")\n",
    "\n",
    "# Display data table for preview\n",
    "mls_df.set_index('Year', inplace=True)\n",
    "mls_df"
   ]
  },
  {
   "cell_type": "code",
   "execution_count": 8,
   "metadata": {
    "scrolled": false
   },
   "outputs": [
    {
     "data": {
      "text/plain": [
       "MLS_Listed    object\n",
       "MLS_Leased    object\n",
       "dtype: object"
      ]
     },
     "execution_count": 8,
     "metadata": {},
     "output_type": "execute_result"
    }
   ],
   "source": [
    "mls_df.dtypes"
   ]
  },
  {
   "cell_type": "markdown",
   "metadata": {},
   "source": [
    "Methods we tried converting string to float that all did not work...\n",
    "A) mls_df = pd.read_csv(\"MLS_Summary.csv\", dtype={\"MLS_Listed\":float})\n",
    "B) mls_df['MLS_Listed'] = pd.to_numeric(mls_df['MLS_Listed'])\n",
    "C) mls_df.MLS_Listed.astype(dtype=float)"
   ]
  },
  {
   "cell_type": "code",
   "execution_count": 9,
   "metadata": {},
   "outputs": [],
   "source": [
    "# Remove , on dataset\n",
    "mls_df['MLS_Listed']  = mls_df['MLS_Listed'].apply(lambda x: int(x.replace(\",\", \"\")))\n",
    "mls_df['MLS_Leased']  = mls_df['MLS_Leased'].apply(lambda x: int(x.replace(\",\", \"\")))"
   ]
  },
  {
   "cell_type": "code",
   "execution_count": 10,
   "metadata": {},
   "outputs": [
    {
     "data": {
      "text/plain": [
       "MLS_Listed    int64\n",
       "MLS_Leased    int64\n",
       "dtype: object"
      ]
     },
     "execution_count": 10,
     "metadata": {},
     "output_type": "execute_result"
    }
   ],
   "source": [
    "mls_df.dtypes"
   ]
  },
  {
   "cell_type": "code",
   "execution_count": 11,
   "metadata": {},
   "outputs": [
    {
     "data": {
      "text/html": [
       "<div>\n",
       "<style scoped>\n",
       "    .dataframe tbody tr th:only-of-type {\n",
       "        vertical-align: middle;\n",
       "    }\n",
       "\n",
       "    .dataframe tbody tr th {\n",
       "        vertical-align: top;\n",
       "    }\n",
       "\n",
       "    .dataframe thead th {\n",
       "        text-align: right;\n",
       "    }\n",
       "</style>\n",
       "<table border=\"1\" class=\"dataframe\">\n",
       "  <thead>\n",
       "    <tr style=\"text-align: right;\">\n",
       "      <th></th>\n",
       "      <th>Airbnb_Leased</th>\n",
       "    </tr>\n",
       "    <tr>\n",
       "      <th>Year</th>\n",
       "      <th></th>\n",
       "    </tr>\n",
       "  </thead>\n",
       "  <tbody>\n",
       "    <tr>\n",
       "      <th>2009</th>\n",
       "      <td>1</td>\n",
       "    </tr>\n",
       "    <tr>\n",
       "      <th>2010</th>\n",
       "      <td>9</td>\n",
       "    </tr>\n",
       "    <tr>\n",
       "      <th>2011</th>\n",
       "      <td>42</td>\n",
       "    </tr>\n",
       "    <tr>\n",
       "      <th>2012</th>\n",
       "      <td>135</td>\n",
       "    </tr>\n",
       "    <tr>\n",
       "      <th>2013</th>\n",
       "      <td>357</td>\n",
       "    </tr>\n",
       "    <tr>\n",
       "      <th>2014</th>\n",
       "      <td>833</td>\n",
       "    </tr>\n",
       "    <tr>\n",
       "      <th>2015</th>\n",
       "      <td>2249</td>\n",
       "    </tr>\n",
       "    <tr>\n",
       "      <th>2016</th>\n",
       "      <td>4623</td>\n",
       "    </tr>\n",
       "    <tr>\n",
       "      <th>2017</th>\n",
       "      <td>7640</td>\n",
       "    </tr>\n",
       "    <tr>\n",
       "      <th>2018</th>\n",
       "      <td>13234</td>\n",
       "    </tr>\n",
       "  </tbody>\n",
       "</table>\n",
       "</div>"
      ],
      "text/plain": [
       "      Airbnb_Leased\n",
       "Year               \n",
       "2009              1\n",
       "2010              9\n",
       "2011             42\n",
       "2012            135\n",
       "2013            357\n",
       "2014            833\n",
       "2015           2249\n",
       "2016           4623\n",
       "2017           7640\n",
       "2018          13234"
      ]
     },
     "execution_count": 11,
     "metadata": {},
     "output_type": "execute_result"
    }
   ],
   "source": [
    "airbnb = pd.DataFrame(airbnb)\n",
    "airbnb = airbnb.rename(columns={\"listing_id\": \"Airbnb_Leased\"})\n",
    "airbnb"
   ]
  },
  {
   "cell_type": "code",
   "execution_count": 12,
   "metadata": {},
   "outputs": [
    {
     "data": {
      "text/html": [
       "<div>\n",
       "<style scoped>\n",
       "    .dataframe tbody tr th:only-of-type {\n",
       "        vertical-align: middle;\n",
       "    }\n",
       "\n",
       "    .dataframe tbody tr th {\n",
       "        vertical-align: top;\n",
       "    }\n",
       "\n",
       "    .dataframe thead th {\n",
       "        text-align: right;\n",
       "    }\n",
       "</style>\n",
       "<table border=\"1\" class=\"dataframe\">\n",
       "  <thead>\n",
       "    <tr style=\"text-align: right;\">\n",
       "      <th></th>\n",
       "      <th>MLS_Listed</th>\n",
       "      <th>MLS_Leased</th>\n",
       "      <th>Airbnb_Leased</th>\n",
       "    </tr>\n",
       "    <tr>\n",
       "      <th>Year</th>\n",
       "      <th></th>\n",
       "      <th></th>\n",
       "      <th></th>\n",
       "    </tr>\n",
       "  </thead>\n",
       "  <tbody>\n",
       "    <tr>\n",
       "      <th>2012</th>\n",
       "      <td>24397</td>\n",
       "      <td>13641</td>\n",
       "      <td>135</td>\n",
       "    </tr>\n",
       "    <tr>\n",
       "      <th>2013</th>\n",
       "      <td>30760</td>\n",
       "      <td>16538</td>\n",
       "      <td>357</td>\n",
       "    </tr>\n",
       "    <tr>\n",
       "      <th>2014</th>\n",
       "      <td>35828</td>\n",
       "      <td>19562</td>\n",
       "      <td>833</td>\n",
       "    </tr>\n",
       "    <tr>\n",
       "      <th>2015</th>\n",
       "      <td>44980</td>\n",
       "      <td>24878</td>\n",
       "      <td>2249</td>\n",
       "    </tr>\n",
       "    <tr>\n",
       "      <th>2016</th>\n",
       "      <td>36776</td>\n",
       "      <td>24188</td>\n",
       "      <td>4623</td>\n",
       "    </tr>\n",
       "    <tr>\n",
       "      <th>2017</th>\n",
       "      <td>35181</td>\n",
       "      <td>23659</td>\n",
       "      <td>7640</td>\n",
       "    </tr>\n",
       "    <tr>\n",
       "      <th>2018</th>\n",
       "      <td>36373</td>\n",
       "      <td>23792</td>\n",
       "      <td>13234</td>\n",
       "    </tr>\n",
       "  </tbody>\n",
       "</table>\n",
       "</div>"
      ],
      "text/plain": [
       "      MLS_Listed  MLS_Leased  Airbnb_Leased\n",
       "Year                                       \n",
       "2012       24397       13641            135\n",
       "2013       30760       16538            357\n",
       "2014       35828       19562            833\n",
       "2015       44980       24878           2249\n",
       "2016       36776       24188           4623\n",
       "2017       35181       23659           7640\n",
       "2018       36373       23792          13234"
      ]
     },
     "execution_count": 12,
     "metadata": {},
     "output_type": "execute_result"
    }
   ],
   "source": [
    "merge_table = pd.merge(mls_df, airbnb, left_index=True, right_index=True)\n",
    "merge_table"
   ]
  },
  {
   "cell_type": "code",
   "execution_count": 13,
   "metadata": {},
   "outputs": [
    {
     "data": {
      "image/png": "[encoded data removed]",
      "text/plain": [
       "<Figure size 432x288 with 1 Axes>"
      ]
     },
     "metadata": {
      "needs_background": "light"
     },
     "output_type": "display_data"
    }
   ],
   "source": [
    "merge_chart = merge_table.plot(kind=\"bar\")\n",
    "\n",
    "merge_chart\n",
    "\n",
    "plt.title(\"Listing Comparison\")\n",
    "\n",
    "# Save Figure\n",
    "plt.savefig(\"Listing_Comparison.png\")"
   ]
  },
  {
   "cell_type": "markdown",
   "metadata": {},
   "source": [
    "Above chart shows that although the rented airbnb properties increased, it did not affect MLS listings at all. MLS listed properties (both leased and not leased) were increasing from 2012 to 2015. It dropped on 2016 and there was little to no movement from 2016 to 2018. MLS listed and MLS leased have the same trend, unaffected by Airbnb leased properties.\n",
    "\n",
    "To further prove that there is no relationship. We used regression model below. Comparing MLS leased vs Airbnb leased, also MLS listed vs Airbnb listed, both resulted in high p-values. There is little or no evidence against the null hypothesis. "
   ]
  },
  {
   "cell_type": "code",
   "execution_count": 14,
   "metadata": {},
   "outputs": [],
   "source": [
    "from statsmodels.formula.api import ols"
   ]
  },
  {
   "cell_type": "code",
   "execution_count": 15,
   "metadata": {},
   "outputs": [],
   "source": [
    "result = ols(formula=\"MLS_Leased ~ Airbnb_Leased\", data=merge_table).fit()"
   ]
  },
  {
   "cell_type": "code",
   "execution_count": 16,
   "metadata": {},
   "outputs": [
    {
     "name": "stdout",
     "output_type": "stream",
     "text": [
      "                            OLS Regression Results                            \n",
      "==============================================================================\n",
      "Dep. Variable:             MLS_Leased   R-squared:                       0.394\n",
      "Model:                            OLS   Adj. R-squared:                  0.273\n",
      "Method:                 Least Squares   F-statistic:                     3.247\n",
      "Date:                Thu, 14 Mar 2019   Prob (F-statistic):              0.131\n",
      "Time:                        23:35:39   Log-Likelihood:                -66.366\n",
      "No. Observations:                   7   AIC:                             136.7\n",
      "Df Residuals:                       5   BIC:                             136.6\n",
      "Df Model:                           1                                         \n",
      "Covariance Type:            nonrobust                                         \n",
      "=================================================================================\n",
      "                    coef    std err          t      P>|t|      [0.025      0.975]\n",
      "---------------------------------------------------------------------------------\n",
      "Intercept      1.852e+04   1935.289      9.570      0.000    1.35e+04    2.35e+04\n",
      "Airbnb_Leased     0.5714      0.317      1.802      0.131      -0.244       1.386\n",
      "==============================================================================\n",
      "Omnibus:                          nan   Durbin-Watson:                   0.770\n",
      "Prob(Omnibus):                    nan   Jarque-Bera (JB):                0.310\n",
      "Skew:                           0.065   Prob(JB):                        0.857\n",
      "Kurtosis:                       1.978   Cond. No.                     8.33e+03\n",
      "==============================================================================\n",
      "\n",
      "Warnings:\n",
      "[1] Standard Errors assume that the covariance matrix of the errors is correctly specified.\n",
      "[2] The condition number is large, 8.33e+03. This might indicate that there are\n",
      "strong multicollinearity or other numerical problems.\n"
     ]
    },
    {
     "name": "stderr",
     "output_type": "stream",
     "text": [
      "C:\\Users\\artem\\Anaconda3\\lib\\site-packages\\statsmodels\\stats\\stattools.py:72: ValueWarning: omni_normtest is not valid with less than 8 observations; 7 samples were given.\n",
      "  \"samples were given.\" % int(n), ValueWarning)\n"
     ]
    }
   ],
   "source": [
    "print(result.summary())"
   ]
  },
  {
   "cell_type": "code",
   "execution_count": 17,
   "metadata": {},
   "outputs": [
    {
     "name": "stdout",
     "output_type": "stream",
     "text": [
      "                            OLS Regression Results                            \n",
      "==============================================================================\n",
      "Dep. Variable:             MLS_Listed   R-squared:                       0.078\n",
      "Model:                            OLS   Adj. R-squared:                 -0.106\n",
      "Method:                 Least Squares   F-statistic:                    0.4255\n",
      "Date:                Thu, 14 Mar 2019   Prob (F-statistic):              0.543\n",
      "Time:                        23:35:39   Log-Likelihood:                -70.309\n",
      "No. Observations:                   7   AIC:                             144.6\n",
      "Df Residuals:                       5   BIC:                             144.5\n",
      "Df Model:                           1                                         \n",
      "Covariance Type:            nonrobust                                         \n",
      "=================================================================================\n",
      "                    coef    std err          t      P>|t|      [0.025      0.975]\n",
      "---------------------------------------------------------------------------------\n",
      "Intercept      3.339e+04   3399.367      9.823      0.000    2.47e+04    4.21e+04\n",
      "Airbnb_Leased     0.3633      0.557      0.652      0.543      -1.068       1.795\n",
      "==============================================================================\n",
      "Omnibus:                          nan   Durbin-Watson:                   1.051\n",
      "Prob(Omnibus):                    nan   Jarque-Bera (JB):                0.197\n",
      "Skew:                           0.411   Prob(JB):                        0.906\n",
      "Kurtosis:                       3.005   Cond. No.                     8.33e+03\n",
      "==============================================================================\n",
      "\n",
      "Warnings:\n",
      "[1] Standard Errors assume that the covariance matrix of the errors is correctly specified.\n",
      "[2] The condition number is large, 8.33e+03. This might indicate that there are\n",
      "strong multicollinearity or other numerical problems.\n"
     ]
    },
    {
     "name": "stderr",
     "output_type": "stream",
     "text": [
      "C:\\Users\\artem\\Anaconda3\\lib\\site-packages\\statsmodels\\stats\\stattools.py:72: ValueWarning: omni_normtest is not valid with less than 8 observations; 7 samples were given.\n",
      "  \"samples were given.\" % int(n), ValueWarning)\n"
     ]
    }
   ],
   "source": [
    "result = ols(formula=\"MLS_Listed ~ Airbnb_Leased\", data=merge_table).fit()\n",
    "print(result.summary())"
   ]
  },
  {
   "cell_type": "markdown",
   "metadata": {},
   "source": [
    "Why is there no relationship? Let us explore Airbnb data instead."
   ]
  },
  {
   "cell_type": "code",
   "execution_count": 18,
   "metadata": {},
   "outputs": [
    {
     "data": {
      "text/html": [
       "<div>\n",
       "<style scoped>\n",
       "    .dataframe tbody tr th:only-of-type {\n",
       "        vertical-align: middle;\n",
       "    }\n",
       "\n",
       "    .dataframe tbody tr th {\n",
       "        vertical-align: top;\n",
       "    }\n",
       "\n",
       "    .dataframe thead th {\n",
       "        text-align: right;\n",
       "    }\n",
       "</style>\n",
       "<table border=\"1\" class=\"dataframe\">\n",
       "  <thead>\n",
       "    <tr style=\"text-align: right;\">\n",
       "      <th></th>\n",
       "      <th>id</th>\n",
       "      <th>name</th>\n",
       "      <th>host_id</th>\n",
       "      <th>host_name</th>\n",
       "      <th>neighbourhood_group</th>\n",
       "      <th>neighbourhood</th>\n",
       "      <th>latitude</th>\n",
       "      <th>longitude</th>\n",
       "      <th>room_type</th>\n",
       "      <th>price</th>\n",
       "      <th>minimum_nights</th>\n",
       "      <th>number_of_reviews</th>\n",
       "      <th>last_review</th>\n",
       "      <th>reviews_per_month</th>\n",
       "      <th>calculated_host_listings_count</th>\n",
       "      <th>availability_365</th>\n",
       "    </tr>\n",
       "  </thead>\n",
       "  <tbody>\n",
       "    <tr>\n",
       "      <th>0</th>\n",
       "      <td>1419</td>\n",
       "      <td>Beautiful home in amazing area!</td>\n",
       "      <td>1565</td>\n",
       "      <td>Alexandra</td>\n",
       "      <td>NaN</td>\n",
       "      <td>Little Portugal</td>\n",
       "      <td>43.646168</td>\n",
       "      <td>-79.424510</td>\n",
       "      <td>Entire home/apt</td>\n",
       "      <td>470</td>\n",
       "      <td>4</td>\n",
       "      <td>7</td>\n",
       "      <td>2017-12-04</td>\n",
       "      <td>0.16</td>\n",
       "      <td>1</td>\n",
       "      <td>0</td>\n",
       "    </tr>\n",
       "    <tr>\n",
       "      <th>1</th>\n",
       "      <td>8077</td>\n",
       "      <td>Downtown Harbourfront Private Room</td>\n",
       "      <td>22795</td>\n",
       "      <td>Kathie &amp; Larry</td>\n",
       "      <td>NaN</td>\n",
       "      <td>Waterfront Communities-The Island</td>\n",
       "      <td>43.641051</td>\n",
       "      <td>-79.376277</td>\n",
       "      <td>Private room</td>\n",
       "      <td>100</td>\n",
       "      <td>180</td>\n",
       "      <td>169</td>\n",
       "      <td>2013-08-27</td>\n",
       "      <td>1.48</td>\n",
       "      <td>2</td>\n",
       "      <td>0</td>\n",
       "    </tr>\n",
       "    <tr>\n",
       "      <th>2</th>\n",
       "      <td>12604</td>\n",
       "      <td>Seaton Village Parlour Bedroom</td>\n",
       "      <td>48239</td>\n",
       "      <td>Rona</td>\n",
       "      <td>NaN</td>\n",
       "      <td>Annex</td>\n",
       "      <td>43.667241</td>\n",
       "      <td>-79.415978</td>\n",
       "      <td>Private room</td>\n",
       "      <td>66</td>\n",
       "      <td>1</td>\n",
       "      <td>0</td>\n",
       "      <td>NaN</td>\n",
       "      <td>NaN</td>\n",
       "      <td>1</td>\n",
       "      <td>0</td>\n",
       "    </tr>\n",
       "    <tr>\n",
       "      <th>3</th>\n",
       "      <td>23691</td>\n",
       "      <td>Queen Bedroom close to downtown</td>\n",
       "      <td>93825</td>\n",
       "      <td>Yohan &amp; Sarah</td>\n",
       "      <td>NaN</td>\n",
       "      <td>Briar Hill-Belgravia</td>\n",
       "      <td>43.696017</td>\n",
       "      <td>-79.454683</td>\n",
       "      <td>Private room</td>\n",
       "      <td>70</td>\n",
       "      <td>1</td>\n",
       "      <td>207</td>\n",
       "      <td>2018-12-30</td>\n",
       "      <td>1.97</td>\n",
       "      <td>2</td>\n",
       "      <td>351</td>\n",
       "    </tr>\n",
       "    <tr>\n",
       "      <th>4</th>\n",
       "      <td>26654</td>\n",
       "      <td>World Class downtown@ CN Tower! Jays, TIFF, ACC</td>\n",
       "      <td>113345</td>\n",
       "      <td>Adela</td>\n",
       "      <td>NaN</td>\n",
       "      <td>Waterfront Communities-The Island</td>\n",
       "      <td>43.645305</td>\n",
       "      <td>-79.389404</td>\n",
       "      <td>Entire home/apt</td>\n",
       "      <td>199</td>\n",
       "      <td>5</td>\n",
       "      <td>35</td>\n",
       "      <td>2018-10-23</td>\n",
       "      <td>0.36</td>\n",
       "      <td>7</td>\n",
       "      <td>328</td>\n",
       "    </tr>\n",
       "  </tbody>\n",
       "</table>\n",
       "</div>"
      ],
      "text/plain": [
       "      id                                             name  host_id  \\\n",
       "0   1419                  Beautiful home in amazing area!     1565   \n",
       "1   8077               Downtown Harbourfront Private Room    22795   \n",
       "2  12604                   Seaton Village Parlour Bedroom    48239   \n",
       "3  23691                  Queen Bedroom close to downtown    93825   \n",
       "4  26654  World Class downtown@ CN Tower! Jays, TIFF, ACC   113345   \n",
       "\n",
       "        host_name  neighbourhood_group                      neighbourhood  \\\n",
       "0       Alexandra                  NaN                    Little Portugal   \n",
       "1  Kathie & Larry                  NaN  Waterfront Communities-The Island   \n",
       "2            Rona                  NaN                              Annex   \n",
       "3   Yohan & Sarah                  NaN               Briar Hill-Belgravia   \n",
       "4           Adela                  NaN  Waterfront Communities-The Island   \n",
       "\n",
       "    latitude  longitude        room_type  price  minimum_nights  \\\n",
       "0  43.646168 -79.424510  Entire home/apt    470               4   \n",
       "1  43.641051 -79.376277     Private room    100             180   \n",
       "2  43.667241 -79.415978     Private room     66               1   \n",
       "3  43.696017 -79.454683     Private room     70               1   \n",
       "4  43.645305 -79.389404  Entire home/apt    199               5   \n",
       "\n",
       "   number_of_reviews last_review  reviews_per_month  \\\n",
       "0                  7  2017-12-04               0.16   \n",
       "1                169  2013-08-27               1.48   \n",
       "2                  0         NaN                NaN   \n",
       "3                207  2018-12-30               1.97   \n",
       "4                 35  2018-10-23               0.36   \n",
       "\n",
       "   calculated_host_listings_count  availability_365  \n",
       "0                               1                 0  \n",
       "1                               2                 0  \n",
       "2                               1                 0  \n",
       "3                               2               351  \n",
       "4                               7               328  "
      ]
     },
     "execution_count": 18,
     "metadata": {},
     "output_type": "execute_result"
    }
   ],
   "source": [
    "a_data = pd.read_csv(\"listings.csv\")\n",
    "a_data.head()"
   ]
  },
  {
   "cell_type": "code",
   "execution_count": 19,
   "metadata": {},
   "outputs": [
    {
     "data": {
      "text/html": [
       "<div>\n",
       "<style scoped>\n",
       "    .dataframe tbody tr th:only-of-type {\n",
       "        vertical-align: middle;\n",
       "    }\n",
       "\n",
       "    .dataframe tbody tr th {\n",
       "        vertical-align: top;\n",
       "    }\n",
       "\n",
       "    .dataframe thead th {\n",
       "        text-align: right;\n",
       "    }\n",
       "</style>\n",
       "<table border=\"1\" class=\"dataframe\">\n",
       "  <thead>\n",
       "    <tr style=\"text-align: right;\">\n",
       "      <th></th>\n",
       "      <th>id</th>\n",
       "      <th>neighbourhood</th>\n",
       "      <th>room_type</th>\n",
       "      <th>price</th>\n",
       "      <th>minimum_nights</th>\n",
       "      <th>number_of_reviews</th>\n",
       "      <th>availability_365</th>\n",
       "    </tr>\n",
       "  </thead>\n",
       "  <tbody>\n",
       "    <tr>\n",
       "      <th>0</th>\n",
       "      <td>1419</td>\n",
       "      <td>Little Portugal</td>\n",
       "      <td>Entire home/apt</td>\n",
       "      <td>470</td>\n",
       "      <td>4</td>\n",
       "      <td>7</td>\n",
       "      <td>0</td>\n",
       "    </tr>\n",
       "    <tr>\n",
       "      <th>1</th>\n",
       "      <td>8077</td>\n",
       "      <td>Waterfront Communities-The Island</td>\n",
       "      <td>Private room</td>\n",
       "      <td>100</td>\n",
       "      <td>180</td>\n",
       "      <td>169</td>\n",
       "      <td>0</td>\n",
       "    </tr>\n",
       "    <tr>\n",
       "      <th>2</th>\n",
       "      <td>12604</td>\n",
       "      <td>Annex</td>\n",
       "      <td>Private room</td>\n",
       "      <td>66</td>\n",
       "      <td>1</td>\n",
       "      <td>0</td>\n",
       "      <td>0</td>\n",
       "    </tr>\n",
       "    <tr>\n",
       "      <th>3</th>\n",
       "      <td>23691</td>\n",
       "      <td>Briar Hill-Belgravia</td>\n",
       "      <td>Private room</td>\n",
       "      <td>70</td>\n",
       "      <td>1</td>\n",
       "      <td>207</td>\n",
       "      <td>351</td>\n",
       "    </tr>\n",
       "    <tr>\n",
       "      <th>4</th>\n",
       "      <td>26654</td>\n",
       "      <td>Waterfront Communities-The Island</td>\n",
       "      <td>Entire home/apt</td>\n",
       "      <td>199</td>\n",
       "      <td>5</td>\n",
       "      <td>35</td>\n",
       "      <td>328</td>\n",
       "    </tr>\n",
       "  </tbody>\n",
       "</table>\n",
       "</div>"
      ],
      "text/plain": [
       "      id                      neighbourhood        room_type  price  \\\n",
       "0   1419                    Little Portugal  Entire home/apt    470   \n",
       "1   8077  Waterfront Communities-The Island     Private room    100   \n",
       "2  12604                              Annex     Private room     66   \n",
       "3  23691               Briar Hill-Belgravia     Private room     70   \n",
       "4  26654  Waterfront Communities-The Island  Entire home/apt    199   \n",
       "\n",
       "   minimum_nights  number_of_reviews  availability_365  \n",
       "0               4                  7                 0  \n",
       "1             180                169                 0  \n",
       "2               1                  0                 0  \n",
       "3               1                207               351  \n",
       "4               5                 35               328  "
      ]
     },
     "execution_count": 19,
     "metadata": {},
     "output_type": "execute_result"
    }
   ],
   "source": [
    "a_data = a_data[[\"id\", \"neighbourhood\", \"room_type\", \"price\", \"minimum_nights\", \"number_of_reviews\", \"availability_365\"]]\n",
    "a_data.head()"
   ]
  },
  {
   "cell_type": "code",
   "execution_count": 20,
   "metadata": {},
   "outputs": [
    {
     "data": {
      "image/png": "[encoded data removed]",
      "text/plain": [
       "<Figure size 432x288 with 1 Axes>"
      ]
     },
     "metadata": {},
     "output_type": "display_data"
    }
   ],
   "source": [
    "# % of Total listings by Room Type\n",
    "per_room = a_data.groupby([\"room_type\"]).count()[\"id\"]\n",
    "\n",
    "# Create lists\n",
    "room_list = [\"Entire home/apt\", \"Private room\", \"Shared room\" ] \n",
    "color_list = [\"blue\", \"red\", \"yellow\" ]\n",
    "\n",
    "# Build Pie Chart\n",
    "plt.pie(per_room, labels=room_list, colors=color_list, startangle = 160, explode=(0, 0, 0.1), shadow=True, autopct='%1.1f%%')\n",
    "plt.title(\"% of Total Listings by Room Type\")\n",
    "\n",
    "# Save Figure\n",
    "plt.savefig(\"Percent_of_Total_Listings_by_Room_Type.png\")"
   ]
  },
  {
   "cell_type": "markdown",
   "metadata": {},
   "source": [
    "MLS listings cater to customers renting entire homes. Whether these clients get a bachelor's pad, 1 bedroom or 2 bedroom, they are renting it for long-term thus they want an entire home. Airbnb however has a different kind of clientele - mostly for short-term stay. Though the graph shows 64% of the listing is entire home, there is still a big chunk of private rooms at 34.2%. Since the two listings cater to different groups, then there is no relationship between them."
   ]
  },
  {
   "cell_type": "code",
   "execution_count": 21,
   "metadata": {},
   "outputs": [
    {
     "data": {
      "image/png": "[encoded data removed]",
      "text/plain": [
       "<Figure size 432x288 with 1 Axes>"
      ]
     },
     "metadata": {},
     "output_type": "display_data"
    }
   ],
   "source": [
    "# % of Total Reviews by Room Type\n",
    "per_review = a_data.groupby([\"room_type\"]).mean()[\"number_of_reviews\"]\n",
    "\n",
    "# Build Pie Chart\n",
    "plt.pie(per_review, labels=room_list, colors=color_list, startangle = 160, explode=(0, 0, 0.1), shadow=True, autopct='%1.1f%%')\n",
    "plt.title(\"% of Total Reviews by Room Type\")\n",
    "\n",
    "# Save Figure\n",
    "plt.savefig(\"Percent_of_Total_Reviews_by_Room_Type.png\")"
   ]
  },
  {
   "cell_type": "markdown",
   "metadata": {},
   "source": [
    "To further support the statement above, let us look at the # of reviews. The number of reviews is an indicator of occupancy. Also important to note that this is an under representation since not all Airbnb renters leave a review. Although only 1.8% of the inventory is shared rooms but shared rooms have 23% of total reviews. 54.8% of total reviews belong to both private rooms and shared rooms even if the total inventory of both is only 36% of the pie. "
   ]
  },
  {
   "cell_type": "code",
   "execution_count": 22,
   "metadata": {},
   "outputs": [
    {
     "data": {
      "text/html": [
       "<div>\n",
       "<style scoped>\n",
       "    .dataframe tbody tr th:only-of-type {\n",
       "        vertical-align: middle;\n",
       "    }\n",
       "\n",
       "    .dataframe tbody tr th {\n",
       "        vertical-align: top;\n",
       "    }\n",
       "\n",
       "    .dataframe thead th {\n",
       "        text-align: right;\n",
       "    }\n",
       "</style>\n",
       "<table border=\"1\" class=\"dataframe\">\n",
       "  <thead>\n",
       "    <tr style=\"text-align: right;\">\n",
       "      <th></th>\n",
       "      <th>id</th>\n",
       "      <th>neighbourhood</th>\n",
       "      <th>room_type</th>\n",
       "      <th>price</th>\n",
       "      <th>minimum_nights</th>\n",
       "      <th>number_of_reviews</th>\n",
       "      <th>availability_365</th>\n",
       "      <th>Availability</th>\n",
       "    </tr>\n",
       "  </thead>\n",
       "  <tbody>\n",
       "    <tr>\n",
       "      <th>0</th>\n",
       "      <td>1419</td>\n",
       "      <td>Little Portugal</td>\n",
       "      <td>Entire home/apt</td>\n",
       "      <td>470</td>\n",
       "      <td>4</td>\n",
       "      <td>7</td>\n",
       "      <td>0</td>\n",
       "      <td>0-90 days</td>\n",
       "    </tr>\n",
       "    <tr>\n",
       "      <th>1</th>\n",
       "      <td>8077</td>\n",
       "      <td>Waterfront Communities-The Island</td>\n",
       "      <td>Private room</td>\n",
       "      <td>100</td>\n",
       "      <td>180</td>\n",
       "      <td>169</td>\n",
       "      <td>0</td>\n",
       "      <td>0-90 days</td>\n",
       "    </tr>\n",
       "    <tr>\n",
       "      <th>2</th>\n",
       "      <td>12604</td>\n",
       "      <td>Annex</td>\n",
       "      <td>Private room</td>\n",
       "      <td>66</td>\n",
       "      <td>1</td>\n",
       "      <td>0</td>\n",
       "      <td>0</td>\n",
       "      <td>0-90 days</td>\n",
       "    </tr>\n",
       "    <tr>\n",
       "      <th>3</th>\n",
       "      <td>23691</td>\n",
       "      <td>Briar Hill-Belgravia</td>\n",
       "      <td>Private room</td>\n",
       "      <td>70</td>\n",
       "      <td>1</td>\n",
       "      <td>207</td>\n",
       "      <td>351</td>\n",
       "      <td>271-365 days</td>\n",
       "    </tr>\n",
       "    <tr>\n",
       "      <th>4</th>\n",
       "      <td>26654</td>\n",
       "      <td>Waterfront Communities-The Island</td>\n",
       "      <td>Entire home/apt</td>\n",
       "      <td>199</td>\n",
       "      <td>5</td>\n",
       "      <td>35</td>\n",
       "      <td>328</td>\n",
       "      <td>271-365 days</td>\n",
       "    </tr>\n",
       "  </tbody>\n",
       "</table>\n",
       "</div>"
      ],
      "text/plain": [
       "      id                      neighbourhood        room_type  price  \\\n",
       "0   1419                    Little Portugal  Entire home/apt    470   \n",
       "1   8077  Waterfront Communities-The Island     Private room    100   \n",
       "2  12604                              Annex     Private room     66   \n",
       "3  23691               Briar Hill-Belgravia     Private room     70   \n",
       "4  26654  Waterfront Communities-The Island  Entire home/apt    199   \n",
       "\n",
       "   minimum_nights  number_of_reviews  availability_365  Availability  \n",
       "0               4                  7                 0     0-90 days  \n",
       "1             180                169                 0     0-90 days  \n",
       "2               1                  0                 0     0-90 days  \n",
       "3               1                207               351  271-365 days  \n",
       "4               5                 35               328  271-365 days  "
      ]
     },
     "execution_count": 22,
     "metadata": {},
     "output_type": "execute_result"
    }
   ],
   "source": [
    "# Create the bins in which Data will be held\n",
    "bins = [-1, 90, 180, 270, 365]\n",
    "\n",
    "# Create the names for the four bins\n",
    "group_names = [\"0-90 days\", \"91-180 days\", \"181-270 days\", \"271-365 days\"]\n",
    "\n",
    "a_data[\"Availability\"] = pd.cut(a_data[\"availability_365\"], bins, labels=group_names)\n",
    "a_data.head()"
   ]
  },
  {
   "cell_type": "code",
   "execution_count": 23,
   "metadata": {},
   "outputs": [
    {
     "data": {
      "image/png": "[encoded data removed]",
      "text/plain": [
       "<Figure size 432x288 with 1 Axes>"
      ]
     },
     "metadata": {},
     "output_type": "display_data"
    }
   ],
   "source": [
    "# % of Availability\n",
    "per_availability = a_data.groupby([\"Availability\"]).count()[\"id\"]\n",
    "\n",
    "# Build Pie Chart\n",
    "plt.pie(per_availability, labels=group_names, startangle = 160, explode=(0, 0, 0, 0.1), shadow=True, autopct='%1.1f%%')\n",
    "plt.title(\"% of Availability\")\n",
    "\n",
    "# Save Figure\n",
    "plt.savefig(\"Percent_of_Availability.png\")"
   ]
  },
  {
   "cell_type": "markdown",
   "metadata": {},
   "source": [
    "MLS listings are available all year round since it is intended for long term rental. The reason why Airbnb is not affecting MLS listings is because only 21.8% of Airbnb listings are available for 271 to 365 days. Majority of Airbnb listings are available for 1-90 days only. Airbnb listing is not always available probably because Airbnb property owners are also using that property. In conclusion, Airbnb and MLS listings are different types of rental and are serving different clients, thus, one is not affecting the other."
   ]
  },
  {
   "cell_type": "code",
   "execution_count": 24,
   "metadata": {},
   "outputs": [],
   "source": [
    "#MLS DATA"
   ]
  },
  {
   "cell_type": "code",
   "execution_count": 25,
   "metadata": {},
   "outputs": [
    {
     "data": {
      "text/html": [
       "<div>\n",
       "<style scoped>\n",
       "    .dataframe tbody tr th:only-of-type {\n",
       "        vertical-align: middle;\n",
       "    }\n",
       "\n",
       "    .dataframe tbody tr th {\n",
       "        vertical-align: top;\n",
       "    }\n",
       "\n",
       "    .dataframe thead th {\n",
       "        text-align: right;\n",
       "    }\n",
       "</style>\n",
       "<table border=\"1\" class=\"dataframe\">\n",
       "  <thead>\n",
       "    <tr style=\"text-align: right;\">\n",
       "      <th></th>\n",
       "      <th>Year</th>\n",
       "      <th>District</th>\n",
       "      <th>Listed</th>\n",
       "      <th>Rented</th>\n",
       "      <th>Bachelor</th>\n",
       "      <th>Bachelor Avg Monthly</th>\n",
       "      <th>1-Bed</th>\n",
       "      <th>1-Bed Avg Monthly</th>\n",
       "      <th>2-Bed</th>\n",
       "      <th>2-Bed Avg Monthly</th>\n",
       "      <th>3-Bed</th>\n",
       "      <th>3-Bed Avg Monthly</th>\n",
       "    </tr>\n",
       "  </thead>\n",
       "  <tbody>\n",
       "    <tr>\n",
       "      <th>0</th>\n",
       "      <td>2006</td>\n",
       "      <td>C01</td>\n",
       "      <td>3938</td>\n",
       "      <td>2153</td>\n",
       "      <td>111</td>\n",
       "      <td>1172.00</td>\n",
       "      <td>1421</td>\n",
       "      <td>1491.00</td>\n",
       "      <td>605</td>\n",
       "      <td>2201.00</td>\n",
       "      <td>16</td>\n",
       "      <td>4029.67</td>\n",
       "    </tr>\n",
       "    <tr>\n",
       "      <th>1</th>\n",
       "      <td>2007</td>\n",
       "      <td>C01</td>\n",
       "      <td>4137</td>\n",
       "      <td>2396</td>\n",
       "      <td>120</td>\n",
       "      <td>1191.33</td>\n",
       "      <td>1546</td>\n",
       "      <td>1527.67</td>\n",
       "      <td>711</td>\n",
       "      <td>2246.67</td>\n",
       "      <td>19</td>\n",
       "      <td>4512.00</td>\n",
       "    </tr>\n",
       "    <tr>\n",
       "      <th>2</th>\n",
       "      <td>2008</td>\n",
       "      <td>C01</td>\n",
       "      <td>4819</td>\n",
       "      <td>2856</td>\n",
       "      <td>176</td>\n",
       "      <td>1217.00</td>\n",
       "      <td>1854</td>\n",
       "      <td>1584.00</td>\n",
       "      <td>813</td>\n",
       "      <td>2305.67</td>\n",
       "      <td>13</td>\n",
       "      <td>3486.67</td>\n",
       "    </tr>\n",
       "    <tr>\n",
       "      <th>3</th>\n",
       "      <td>2009</td>\n",
       "      <td>C01</td>\n",
       "      <td>6293</td>\n",
       "      <td>3622</td>\n",
       "      <td>222</td>\n",
       "      <td>1213.33</td>\n",
       "      <td>2239</td>\n",
       "      <td>1542.33</td>\n",
       "      <td>1138</td>\n",
       "      <td>2210.33</td>\n",
       "      <td>23</td>\n",
       "      <td>3416.67</td>\n",
       "    </tr>\n",
       "    <tr>\n",
       "      <th>4</th>\n",
       "      <td>2010</td>\n",
       "      <td>C01</td>\n",
       "      <td>8068</td>\n",
       "      <td>4738</td>\n",
       "      <td>237</td>\n",
       "      <td>1226.67</td>\n",
       "      <td>2979</td>\n",
       "      <td>1567.00</td>\n",
       "      <td>1485</td>\n",
       "      <td>2255.67</td>\n",
       "      <td>37</td>\n",
       "      <td>3757.33</td>\n",
       "    </tr>\n",
       "    <tr>\n",
       "      <th>5</th>\n",
       "      <td>2011</td>\n",
       "      <td>C01</td>\n",
       "      <td>10360</td>\n",
       "      <td>6644</td>\n",
       "      <td>363</td>\n",
       "      <td>1310.67</td>\n",
       "      <td>4170</td>\n",
       "      <td>1695.33</td>\n",
       "      <td>2026</td>\n",
       "      <td>2546.33</td>\n",
       "      <td>85</td>\n",
       "      <td>3789.33</td>\n",
       "    </tr>\n",
       "    <tr>\n",
       "      <th>6</th>\n",
       "      <td>2012</td>\n",
       "      <td>C01</td>\n",
       "      <td>8370</td>\n",
       "      <td>4964</td>\n",
       "      <td>224</td>\n",
       "      <td>1379.50</td>\n",
       "      <td>3060</td>\n",
       "      <td>1762.75</td>\n",
       "      <td>1618</td>\n",
       "      <td>2607.50</td>\n",
       "      <td>62</td>\n",
       "      <td>3780.75</td>\n",
       "    </tr>\n",
       "    <tr>\n",
       "      <th>7</th>\n",
       "      <td>2013</td>\n",
       "      <td>C01</td>\n",
       "      <td>12880</td>\n",
       "      <td>6812</td>\n",
       "      <td>316</td>\n",
       "      <td>1375.00</td>\n",
       "      <td>4302</td>\n",
       "      <td>1759.75</td>\n",
       "      <td>2117</td>\n",
       "      <td>2609.00</td>\n",
       "      <td>77</td>\n",
       "      <td>4054.75</td>\n",
       "    </tr>\n",
       "    <tr>\n",
       "      <th>8</th>\n",
       "      <td>2014</td>\n",
       "      <td>C01</td>\n",
       "      <td>15020</td>\n",
       "      <td>8268</td>\n",
       "      <td>367</td>\n",
       "      <td>1383.00</td>\n",
       "      <td>5332</td>\n",
       "      <td>1760.75</td>\n",
       "      <td>2463</td>\n",
       "      <td>2580.50</td>\n",
       "      <td>106</td>\n",
       "      <td>3962.75</td>\n",
       "    </tr>\n",
       "    <tr>\n",
       "      <th>9</th>\n",
       "      <td>2015</td>\n",
       "      <td>C01</td>\n",
       "      <td>18086</td>\n",
       "      <td>10199</td>\n",
       "      <td>561</td>\n",
       "      <td>1376.25</td>\n",
       "      <td>6482</td>\n",
       "      <td>1756.75</td>\n",
       "      <td>2961</td>\n",
       "      <td>2622.25</td>\n",
       "      <td>195</td>\n",
       "      <td>3464.00</td>\n",
       "    </tr>\n",
       "    <tr>\n",
       "      <th>10</th>\n",
       "      <td>2016</td>\n",
       "      <td>C01</td>\n",
       "      <td>16124</td>\n",
       "      <td>10622</td>\n",
       "      <td>657</td>\n",
       "      <td>1477.25</td>\n",
       "      <td>6690</td>\n",
       "      <td>1867.75</td>\n",
       "      <td>3076</td>\n",
       "      <td>2850.50</td>\n",
       "      <td>199</td>\n",
       "      <td>3968.25</td>\n",
       "    </tr>\n",
       "    <tr>\n",
       "      <th>11</th>\n",
       "      <td>2017</td>\n",
       "      <td>C01</td>\n",
       "      <td>14318</td>\n",
       "      <td>9513</td>\n",
       "      <td>573</td>\n",
       "      <td>1636.75</td>\n",
       "      <td>5879</td>\n",
       "      <td>2071.75</td>\n",
       "      <td>2861</td>\n",
       "      <td>3017.50</td>\n",
       "      <td>200</td>\n",
       "      <td>4291.25</td>\n",
       "    </tr>\n",
       "    <tr>\n",
       "      <th>12</th>\n",
       "      <td>2018</td>\n",
       "      <td>C01</td>\n",
       "      <td>13725</td>\n",
       "      <td>8894</td>\n",
       "      <td>561</td>\n",
       "      <td>1818.50</td>\n",
       "      <td>5629</td>\n",
       "      <td>2283.25</td>\n",
       "      <td>2536</td>\n",
       "      <td>3276.00</td>\n",
       "      <td>168</td>\n",
       "      <td>4417.75</td>\n",
       "    </tr>\n",
       "  </tbody>\n",
       "</table>\n",
       "</div>"
      ],
      "text/plain": [
       "    Year District  Listed  Rented  Bachelor  Bachelor Avg Monthly  1-Bed  \\\n",
       "0   2006      C01    3938    2153       111               1172.00   1421   \n",
       "1   2007      C01    4137    2396       120               1191.33   1546   \n",
       "2   2008      C01    4819    2856       176               1217.00   1854   \n",
       "3   2009      C01    6293    3622       222               1213.33   2239   \n",
       "4   2010      C01    8068    4738       237               1226.67   2979   \n",
       "5   2011      C01   10360    6644       363               1310.67   4170   \n",
       "6   2012      C01    8370    4964       224               1379.50   3060   \n",
       "7   2013      C01   12880    6812       316               1375.00   4302   \n",
       "8   2014      C01   15020    8268       367               1383.00   5332   \n",
       "9   2015      C01   18086   10199       561               1376.25   6482   \n",
       "10  2016      C01   16124   10622       657               1477.25   6690   \n",
       "11  2017      C01   14318    9513       573               1636.75   5879   \n",
       "12  2018      C01   13725    8894       561               1818.50   5629   \n",
       "\n",
       "    1-Bed Avg Monthly  2-Bed  2-Bed Avg Monthly  3-Bed  3-Bed Avg Monthly  \n",
       "0             1491.00    605            2201.00     16            4029.67  \n",
       "1             1527.67    711            2246.67     19            4512.00  \n",
       "2             1584.00    813            2305.67     13            3486.67  \n",
       "3             1542.33   1138            2210.33     23            3416.67  \n",
       "4             1567.00   1485            2255.67     37            3757.33  \n",
       "5             1695.33   2026            2546.33     85            3789.33  \n",
       "6             1762.75   1618            2607.50     62            3780.75  \n",
       "7             1759.75   2117            2609.00     77            4054.75  \n",
       "8             1760.75   2463            2580.50    106            3962.75  \n",
       "9             1756.75   2961            2622.25    195            3464.00  \n",
       "10            1867.75   3076            2850.50    199            3968.25  \n",
       "11            2071.75   2861            3017.50    200            4291.25  \n",
       "12            2283.25   2536            3276.00    168            4417.75  "
      ]
     },
     "execution_count": 25,
     "metadata": {},
     "output_type": "execute_result"
    }
   ],
   "source": [
    "csv_path = \"MLS Rental Market Report.csv\"\n",
    "Rental_Market_Report_df = pd.read_csv(csv_path)\n",
    "Rental_Market_Report_df"
   ]
  },
  {
   "cell_type": "code",
   "execution_count": 33,
   "metadata": {},
   "outputs": [
    {
     "data": {
      "image/png": "[encoded data removed]",
      "text/plain": [
       "<Figure size 864x360 with 1 Axes>"
      ]
     },
     "metadata": {
      "needs_background": "light"
     },
     "output_type": "display_data"
    }
   ],
   "source": [
    "# Create a list indicating where to write x labels and set figure size to adjust for space\n",
    "plt.figure(figsize=(12,5))\n",
    "plt.bar(Rental_Market_Report_df[\"Year\"], Rental_Market_Report_df[\"Rented\"], color='B')\n",
    "plt.xticks(Rental_Market_Report_df[\"Year\"])\n",
    "# plt.bar(Rental_Market_Report_df[\"Year\"], Rental_Market_Report_df[\"Listed\"], color='b')\n",
    "plt.title(\"# of Total Units Rented\")\n",
    "plt.show()"
   ]
  },
  {
   "cell_type": "code",
   "execution_count": 35,
   "metadata": {},
   "outputs": [
    {
     "data": {
      "text/plain": [
       "<Figure size 1584x1080 with 0 Axes>"
      ]
     },
     "metadata": {},
     "output_type": "display_data"
    },
    {
     "data": {
      "image/png": "[encoded data removed]",
      "text/plain": [
       "<Figure size 432x288 with 1 Axes>"
      ]
     },
     "metadata": {
      "needs_background": "light"
     },
     "output_type": "display_data"
    }
   ],
   "source": [
    "new_df = Rental_Market_Report_df[[\"Year\",\"Bachelor\",\"1-Bed\",\"2-Bed\",\"3-Bed\"]]\n",
    "plt.figure(figsize=(22,15))\n",
    "new_df.plot(x= \"Year\",kind = \"bar\")\n",
    "plt.title(\"Units Rented\")\n",
    "plt.show()"
   ]
  },
  {
   "cell_type": "code",
   "execution_count": 36,
   "metadata": {},
   "outputs": [
    {
     "data": {
      "text/plain": [
       "<Figure size 1584x1080 with 0 Axes>"
      ]
     },
     "metadata": {},
     "output_type": "display_data"
    },
    {
     "data": {
      "image/png": "[encoded data removed]",
      "text/plain": [
       "<Figure size 432x288 with 1 Axes>"
      ]
     },
     "metadata": {
      "needs_background": "light"
     },
     "output_type": "display_data"
    }
   ],
   "source": [
    "# Create a list indicating where to write x labels and set figure size to adjust for space\n",
    "new_df = Rental_Market_Report_df[[\"Year\",\"Bachelor Avg Monthly\",\"1-Bed Avg Monthly\",\"2-Bed Avg Monthly\",\"3-Bed Avg Monthly\"]]\n",
    "plt.figure(figsize=(22,15))\n",
    "new_df.plot(x= \"Year\",kind = \"line\")\n",
    "plt.title(\"Price by unit size\")\n",
    "plt.show()"
   ]
  },
  {
   "cell_type": "code",
   "execution_count": null,
   "metadata": {},
   "outputs": [],
   "source": []
  },
  {
   "cell_type": "code",
   "execution_count": null,
   "metadata": {},
   "outputs": [],
   "source": []
  },
  {
   "cell_type": "code",
   "execution_count": 31,
   "metadata": {},
   "outputs": [
    {
     "data": {
      "text/html": [
       "<img src=\"map.png\"/>"
      ],
      "text/plain": [
       "<IPython.core.display.Image object>"
      ]
     },
     "execution_count": 31,
     "metadata": {},
     "output_type": "execute_result"
    }
   ],
   "source": [
    "Image(url= \"map.png\")"
   ]
  }
 ],
 "metadata": {
  "anaconda-cloud": {},
  "kernelspec": {
   "display_name": "Python 3",
   "language": "python",
   "name": "python3"
  },
  "language_info": {
   "codemirror_mode": {
    "name": "ipython",
    "version": 3
   },
   "file_extension": ".py",
   "mimetype": "text/x-python",
   "name": "python",
   "nbconvert_exporter": "python",
   "pygments_lexer": "ipython3",
   "version": "3.7.0"
  }
 },
 "nbformat": 4,
 "nbformat_minor": 2
}
